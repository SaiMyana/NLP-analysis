{
 "cells": [
  {
   "cell_type": "markdown",
   "metadata": {
    "id": "f2S8I2ny-ovS"
   },
   "source": [
    "# ANLP Assignment: Sentiment Classification\n",
    "\n",
    "In this assignment, you will be investigating NLP methods for distinguishing positive and negative reviews written about movies.\n",
    "\n",
    "For assessment, you are expected to complete and submit this notebook file.  When answers require code, you may import and use library functions (unless explicitly told otherwise).  All of your own code should be included in the notebook rather than imported from elsewhere.  Written answers should also be included in the notebook.  You should insert as many extra cells as you want and change the type between code and markdown as appropriate.\n",
    "\n",
    "In order to avoid misconduct, you should not talk about the assignment questions with your peers.  If you are not sure what a question is asking you to do or have any other questions, please ask me or one of the Teaching Assistants.\n",
    "\n",
    "Marking guidelines are provided as a separate document.\n",
    "\n",
    "The first few cells contain code to set-up the assignment and bring in some data.   In order to provide unique datasets for analysis by different students, you must enter your candidate number in the following cell.  Otherwise do not change the code in these cells."
   ]
  },
  {
   "cell_type": "code",
   "execution_count": 1,
   "metadata": {
    "id": "1gXQAZas-l9c",
    "tags": []
   },
   "outputs": [],
   "source": [
    "candidateno=277239 #this MUST be updated to your candidate number so that you get a unique data sample"
   ]
  },
  {
   "cell_type": "code",
   "execution_count": 2,
   "metadata": {
    "colab": {
     "base_uri": "https://localhost:8080/"
    },
    "id": "nk8JTP88A8vs",
    "outputId": "5ce22518-19d8-4c38-b8f9-13732a3c7a44",
    "tags": []
   },
   "outputs": [
    {
     "name": "stderr",
     "output_type": "stream",
     "text": [
      "[nltk_data] Downloading package punkt to\n",
      "[nltk_data]     C:\\Users\\Sai\\AppData\\Roaming\\nltk_data...\n",
      "[nltk_data]   Package punkt is already up-to-date!\n",
      "[nltk_data] Downloading package stopwords to\n",
      "[nltk_data]     C:\\Users\\Sai\\AppData\\Roaming\\nltk_data...\n",
      "[nltk_data]   Package stopwords is already up-to-date!\n",
      "[nltk_data] Downloading package movie_reviews to\n",
      "[nltk_data]     C:\\Users\\Sai\\AppData\\Roaming\\nltk_data...\n",
      "[nltk_data]   Package movie_reviews is already up-to-date!\n"
     ]
    }
   ],
   "source": [
    "#do not change the code in this cell\n",
    "#preliminary imports\n",
    "\n",
    "#set up nltk\n",
    "import nltk\n",
    "nltk.download('punkt')\n",
    "nltk.download('stopwords')\n",
    "nltk.download('movie_reviews')\n",
    "from nltk.corpus import stopwords\n",
    "from nltk.tokenize import word_tokenize\n",
    "from nltk.corpus import movie_reviews\n",
    "\n",
    "#for setting up training and testing data\n",
    "import random\n",
    "\n",
    "#useful other tools\n",
    "import re\n",
    "import pandas as pd\n",
    "import matplotlib.pyplot as plt\n",
    "%matplotlib inline\n",
    "from itertools import zip_longest\n",
    "from nltk.probability import FreqDist\n",
    "from nltk.classify.api import ClassifierI\n"
   ]
  },
  {
   "cell_type": "code",
   "execution_count": 3,
   "metadata": {
    "id": "BHBkzAccCVaZ",
    "tags": []
   },
   "outputs": [],
   "source": [
    "#do not change the code in this cell\n",
    "def split_data(data, ratio=0.7): # when the second argument is not given, it defaults to 0.7\n",
    "    \"\"\"\n",
    "    Given corpus generator and ratio:\n",
    "     - partitions the corpus into training data and test data, where the proportion in train is ratio,\n",
    "\n",
    "    :param data: A corpus generator.\n",
    "    :param ratio: The proportion of training documents (default 0.7)\n",
    "    :return: a pair (tuple) of lists where the first element of the\n",
    "            pair is a list of the training data and the second is a list of the test data.\n",
    "    \"\"\"\n",
    "\n",
    "    data = list(data)\n",
    "    n = len(data)\n",
    "    train_indices = random.sample(range(n), int(n * ratio))\n",
    "    test_indices = list(set(range(n)) - set(train_indices))\n",
    "    train = [data[i] for i in train_indices]\n",
    "    test = [data[i] for i in test_indices]\n",
    "    return (train, test)\n",
    "\n",
    "\n",
    "def get_train_test_data():\n",
    "\n",
    "    #get ids of positive and negative movie reviews\n",
    "    pos_review_ids=movie_reviews.fileids('pos')\n",
    "    neg_review_ids=movie_reviews.fileids('neg')\n",
    "\n",
    "    #split positive and negative data into training and testing sets\n",
    "    pos_train_ids, pos_test_ids = split_data(pos_review_ids)\n",
    "    neg_train_ids, neg_test_ids = split_data(neg_review_ids)\n",
    "    #add labels to the data and concatenate\n",
    "    training = [(movie_reviews.words(f),'pos') for f in pos_train_ids]+[(movie_reviews.words(f),'neg') for f in neg_train_ids]\n",
    "    testing = [(movie_reviews.words(f),'pos') for f in pos_test_ids]+[(movie_reviews.words(f),'neg') for f in neg_test_ids]\n",
    "\n",
    "    return training, testing"
   ]
  },
  {
   "cell_type": "markdown",
   "metadata": {
    "id": "1N3LWwBYICPP"
   },
   "source": [
    "When you have run the cell below, your unique training and testing samples will be stored in `training_data` and `testing_data`"
   ]
  },
  {
   "cell_type": "code",
   "execution_count": 4,
   "metadata": {
    "id": "HJLegkdPFUJA",
    "tags": []
   },
   "outputs": [
    {
     "name": "stdout",
     "output_type": "stream",
     "text": [
      "The amount of training data is 1400\n",
      "The amount of testing data is 600\n",
      "The representation of a single data item is below\n",
      "(['studio', 'expectations', 'must', 'not', 'have', ...], 'pos')\n"
     ]
    }
   ],
   "source": [
    "#do not change the code in this cell\n",
    "random.seed(candidateno)\n",
    "training_data,testing_data=get_train_test_data()\n",
    "print(\"The amount of training data is {}\".format(len(training_data)))\n",
    "print(\"The amount of testing data is {}\".format(len(testing_data)))\n",
    "print(\"The representation of a single data item is below\")\n",
    "print(training_data[0])"
   ]
  },
  {
   "cell_type": "markdown",
   "metadata": {
    "id": "RbTq6eGv2XT2"
   },
   "source": [
    "1)  \n",
    "a) **Generate** a list of 10 content words which are representative of the positive reviews in your training data.\n",
    "\n",
    "b) **Generate** a list of 10 content words which are representative of the negative reviews in your training data.\n",
    "\n",
    "c) **Explain** what you have done and why\n",
    "\n",
    "[20\\%]"
   ]
  },
  {
   "cell_type": "code",
   "execution_count": 5,
   "metadata": {
    "id": "JXHrtNCg2XT4",
    "tags": []
   },
   "outputs": [],
   "source": [
    "from nltk.corpus import stopwords \n",
    "stop = stopwords.words('english')\n",
    "\n",
    "def normalize(alist): \n",
    "    \n",
    "    lower=[([x.lower() for x in word],pos) for word,pos in alist]   #Lower casing the alist\n",
    "    norm= [([x for x in word if x.isalpha() and x not in stop and x not in 'NUM'],pos) for word,pos in lower]  #Removing the stop words like 'i','me','my','myself', etc\n",
    "    \n",
    "    return norm"
   ]
  },
  {
   "cell_type": "code",
   "execution_count": 6,
   "metadata": {
    "tags": []
   },
   "outputs": [],
   "source": [
    "from nltk.probability import FreqDist\n",
    "training_norm = [(FreqDist(i),j) for i,j in normalize(training_data)]  #Taking the frequency distribution i.e. the number of times each word has occurred in the document\n",
    "\n",
    "testing_norm = [(FreqDist(i),j) for i,j in normalize(testing_data)]"
   ]
  },
  {
   "cell_type": "code",
   "execution_count": 7,
   "metadata": {
    "tags": []
   },
   "outputs": [],
   "source": [
    "pos_freq_dist=FreqDist()\n",
    "neg_freq_dist=FreqDist()\n",
    "\n",
    "for reviewDist,label in training_norm:   #Dividing the dataset into positive and negative\n",
    "    if label=='pos':\n",
    "        pos_freq_dist+=reviewDist\n",
    "    else:\n",
    "        neg_freq_dist+=reviewDist"
   ]
  },
  {
   "cell_type": "code",
   "execution_count": 8,
   "metadata": {
    "tags": []
   },
   "outputs": [
    {
     "data": {
      "text/plain": [
       "FreqDist({'film': 3578, 'one': 2079, 'movie': 1767, 'like': 1266, 'story': 896, 'time': 871, 'good': 867, 'also': 839, 'even': 799, 'well': 792, ...})"
      ]
     },
     "execution_count": 8,
     "metadata": {},
     "output_type": "execute_result"
    }
   ],
   "source": [
    "pos_freq_dist"
   ]
  },
  {
   "cell_type": "code",
   "execution_count": 9,
   "metadata": {
    "tags": []
   },
   "outputs": [
    {
     "data": {
      "text/plain": [
       "FreqDist({'film': 3046, 'movie': 2363, 'one': 2027, 'like': 1356, 'even': 986, 'time': 851, 'good': 833, 'would': 784, 'bad': 748, 'get': 736, ...})"
      ]
     },
     "execution_count": 9,
     "metadata": {},
     "output_type": "execute_result"
    }
   ],
   "source": [
    "neg_freq_dist"
   ]
  },
  {
   "cell_type": "code",
   "execution_count": 10,
   "metadata": {
    "id": "RgePc9hV2XT_",
    "tags": []
   },
   "outputs": [],
   "source": [
    "def frequent_words(freq1,freq2,k):     # A function to get most common words based on the freqency distribution \n",
    "    diff=freq1-freq2\n",
    "    mostcommon=diff.most_common()\n",
    "    words=[i for i,j in mostcommon[:k]]\n",
    "    \n",
    "    return words"
   ]
  },
  {
   "cell_type": "markdown",
   "metadata": {
    "tags": []
   },
   "source": [
    "## <b> Q 1.a)<b>"
   ]
  },
  {
   "cell_type": "code",
   "execution_count": 11,
   "metadata": {
    "id": "JauTzY5N2XUB",
    "tags": []
   },
   "outputs": [
    {
     "name": "stdout",
     "output_type": "stream",
     "text": [
      "A list of 10 content words which are representative of the positive reviews in my training data are:\n",
      " ['film', 'life', 'also', 'story', 'well', 'great', 'best', 'jackie', 'world', 'films'] \n",
      "and it's length is: 10\n"
     ]
    }
   ],
   "source": [
    "Top_pos_cwords = frequent_words(pos_freq_dist,neg_freq_dist,10) #Getting top 10 most frequent positive words\n",
    "\n",
    "print(\"A list of 10 content words which are representative of the positive reviews in my training data are:\\n\",Top_pos_cwords,\"\\nand it's length is:\",len(Top_pos_cwords) )"
   ]
  },
  {
   "cell_type": "markdown",
   "metadata": {
    "tags": []
   },
   "source": [
    "## <b> Q 1.b)<b>"
   ]
  },
  {
   "cell_type": "code",
   "execution_count": 12,
   "metadata": {
    "tags": []
   },
   "outputs": [
    {
     "name": "stdout",
     "output_type": "stream",
     "text": [
      "A list of 10 content words which are representative of the negative reviews in my training data are:\n",
      " ['movie', 'bad', 'plot', 'even', 'worst', 'could', 'nothing', 'script', 'stupid', 'guy'] \n",
      "and it's length is:  10\n"
     ]
    }
   ],
   "source": [
    "Top_neg_cwords = frequent_words(neg_freq_dist,pos_freq_dist,10) #Getting top 10 most frequent negative words\n",
    "\n",
    "print(\"A list of 10 content words which are representative of the negative reviews in my training data are:\\n\",Top_neg_cwords,\"\\nand it's length is: \",len(Top_neg_cwords) )"
   ]
  },
  {
   "cell_type": "markdown",
   "metadata": {},
   "source": [
    "## <b> Q 1.c)<b> Following steps were carried out:\n",
    "1. Using the `stopwords` from `nltk.corpus`, I normalised the data set, i.e I first lower cased the dataset and then removed the stop words from it\n",
    "2. using `FreqDist` from `nltk.probability`, I recored the frequnecy distribution i.e. the number of times each word has occurred in the document of the normalised `training_data` into `training_norm`.\n",
    "3. I recorded all the postive words from positive/(`pos` labelled) normalised training dataset to `pos_freq_dist` and all the neagtive/(`neg`labelled) normalised training dataset to `neg_freq_dist` from all the documents\n",
    "4. I wrote a function `frequent_words` which gets the top positive and negative words, i.e by subtracting `neg_freq_dist` from `pos_freq_dist` to get a list of 10 content words which are representative of the positive reviews. And by subtracting `pos_freq_dist` from `neg_freq_dist` to get a list of 10 content words which are representative of the negative reviews."
   ]
  },
  {
   "cell_type": "markdown",
   "metadata": {
    "id": "TApOQE6vND20"
   },
   "source": [
    "2)\n",
    "a) **Use** the lists generated in Q1 to build a **word list classifier** which will classify reviews as being positive or negative.\n",
    "\n",
    "b) **Explain** what you have done.\n",
    "\n",
    "[12.5\\%]\n"
   ]
  },
  {
   "cell_type": "markdown",
   "metadata": {},
   "source": [
    "## <b> Q 2.a)"
   ]
  },
  {
   "cell_type": "code",
   "execution_count": 13,
   "metadata": {
    "id": "BThDMrcmODJy",
    "tags": []
   },
   "outputs": [],
   "source": [
    "from nltk.classify.api import ClassifierI   \n",
    " \n",
    "class SimpleClassifier(ClassifierI):      # Using the ClassifierI from 'nltk.classify.api', I made SimpleClassifier class which takes positive and negative words and\n",
    "                                          # to classify the documents as positive or negative\n",
    "    def __init__(self, pos, neg): \n",
    "        self._pos = pos \n",
    "        self._neg = neg \n",
    "\n",
    "    def classify(self, words):            # This function classifies the document based on the score. i.e it will increment the score or decrement the score\n",
    "                                          # based on our positive word list and negative word list repectively. \n",
    "        score = 0\n",
    "        for i in words:\n",
    "            if i in self._pos:\n",
    "                score+=1\n",
    "            elif i in self._neg:\n",
    "                score-=1\n",
    "                \n",
    "        return \"neg\" if score < 0 else \"pos\"\n",
    "\n",
    "    def labels(self): \n",
    "        return (\"pos\", \"neg\")"
   ]
  },
  {
   "cell_type": "code",
   "execution_count": 14,
   "metadata": {
    "tags": []
   },
   "outputs": [
    {
     "name": "stdout",
     "output_type": "stream",
     "text": [
      "['pos', 'pos', 'pos', 'pos', 'pos', 'pos', 'neg', 'pos', 'pos', 'pos']\n"
     ]
    }
   ],
   "source": [
    "docs,goldstandard=zip(*training_norm)\n",
    "\n",
    "classifier = SimpleClassifier(Top_pos_cwords, Top_neg_cwords)  # Feeding our classifier with positive and negative words\n",
    "predictions=classifier.classify_many(docs)                     # Classifing our documents and storing it in 'predicition'\n",
    "print(predictions[:10])                                        #Just to keep it tidy I have added [:10]"
   ]
  },
  {
   "cell_type": "code",
   "execution_count": 15,
   "metadata": {
    "tags": []
   },
   "outputs": [
    {
     "data": {
      "text/plain": [
       "'neg'"
      ]
     },
     "execution_count": 15,
     "metadata": {},
     "output_type": "execute_result"
    }
   ],
   "source": [
    "classifier.classify(\"This movie was bad\".split())              # An example to demonstrate that our classifier is working fine"
   ]
  },
  {
   "cell_type": "markdown",
   "metadata": {},
   "source": [
    " ## <b> Q 2.b) <b>   \n",
    "Using ClassifierI from nltk.classify.api library, the `SimpleClassifier` is initialised with a list of 10 positive words, and a list of 10 negative words. \n",
    "\n",
    "All the documents are then passed to the `classify_many` method which inturn runs `classify` method for each document. \n",
    "    \n",
    "This method increments the `score` or decrements the `score` based on our positive word list (`Top_pos_cwords`) and negative word list (`Top_neg_cwords`) repectively. \n",
    "\n",
    "Based on the this value the document/review is classified as postive or negative."
   ]
  },
  {
   "cell_type": "markdown",
   "metadata": {
    "id": "YZdDO_Y92XUH"
   },
   "source": [
    "3)\n",
    "a) **Calculate** the accuracy, precision, recall and F1 score of your classifier.\n",
    "\n",
    "b) Is it reasonable to evaluate the classifier in terms of its accuracy?  **Explain** your answer and give a counter-example (a scenario where it would / would not be reasonable to evaluate the classifier in terms of its accuracy).\n",
    "\n",
    "[20\\%]"
   ]
  },
  {
   "cell_type": "markdown",
   "metadata": {
    "tags": []
   },
   "source": [
    "## <b> Q 3.a)<b>"
   ]
  },
  {
   "cell_type": "code",
   "execution_count": 16,
   "metadata": {
    "id": "1LQc8bsA2XUI",
    "tags": []
   },
   "outputs": [],
   "source": [
    "class ConfusionMatrix:     # A ConfusionMatrix class which will calculate 'Accuracy', 'Precision', 'Recall', 'F1'\n",
    "    \n",
    "    def __init__(self,predictions,goldstandard,classes=(\"pos\",\"neg\")):\n",
    "    \n",
    "        (self.c1,self.c2)=classes\n",
    "        self.TP=0\n",
    "        self.FP=0\n",
    "        self.FN=0\n",
    "        self.TN=0\n",
    "        for p,g in zip(predictions,goldstandard):\n",
    "            if g==self.c1:\n",
    "                if p==self.c1:\n",
    "                    self.TP+=1\n",
    "                else:\n",
    "                    self.FN+=1\n",
    "        \n",
    "            elif p==self.c1:\n",
    "                self.FP+=1\n",
    "            else:\n",
    "                self.TN+=1\n",
    "    \n",
    "    def accuracy(self):    #Defining Accuracy\n",
    "        a=0\n",
    "        N=self.TP+self.FP+self.TN+self.FN\n",
    "        a=(self.TP+self.TN)/N\n",
    "        return a       \n",
    "    \n",
    "    def precision(self):   #Defining Precision\n",
    "        p=0\n",
    "        p=self.TP/(self.TP+self.FP)\n",
    "        return p\n",
    "  \n",
    "    def recall(self):      #Defining Recall\n",
    "        r=0\n",
    "        r=self.TP/(self.TP+self.FN)\n",
    "        return r\n",
    "  \n",
    "    def f1(self):          #Defining F1\n",
    "        f1=0\n",
    "        P=self.precision()\n",
    "        R=self.recall()\n",
    "        f1= (2 * P * R)/(P+R)\n",
    "        return f1 \n"
   ]
  },
  {
   "cell_type": "code",
   "execution_count": 17,
   "metadata": {
    "id": "R_i80ceP2XUJ",
    "tags": []
   },
   "outputs": [],
   "source": [
    "# Initialising 'ConfusionMatrix' with prediction (from SimpleClassifier) and the original/actual class values\n",
    "# we got the predictions from the classifier which I made earliar\n",
    "# And we are comparing it with the gold standard to calculate Accuracy, precision etc\n",
    "\n",
    "ConfusionMatrix1=ConfusionMatrix(predictions,goldstandard)   "
   ]
  },
  {
   "cell_type": "code",
   "execution_count": 18,
   "metadata": {
    "id": "VbYwwhcs2XUL",
    "tags": []
   },
   "outputs": [
    {
     "name": "stdout",
     "output_type": "stream",
     "text": [
      "Accuracy of my SimpleClassifier using Training Dataset = 0.6707142857142857 or 67.07 %\n",
      "Precision of my SimpleClassifier using Training Dataset = 0.62058526740666 or 62.06 %\n",
      "Recall of my SimpleClassifier using Training Dataset = 0.8785714285714286 or 87.86 %\n",
      "F1 of my SimpleClassifier using Training Dataset = 0.7273802483737434 or 72.74 %\n"
     ]
    }
   ],
   "source": [
    "Accuracy=ConfusionMatrix1.accuracy()\n",
    "Precision=ConfusionMatrix1.precision()\n",
    "Recall=ConfusionMatrix1.recall()\n",
    "F1=ConfusionMatrix1.f1()\n",
    "print(\"Accuracy of my SimpleClassifier using Training Dataset =\",Accuracy, \"or %.2f\" % (Accuracy*100),\"%\")\n",
    "print(\"Precision of my SimpleClassifier using Training Dataset =\",Precision, \"or %.2f\" % (Precision*100),\"%\")\n",
    "print(\"Recall of my SimpleClassifier using Training Dataset =\",Recall, \"or %.2f\" % (Recall*100),\"%\")\n",
    "print(\"F1 of my SimpleClassifier using Training Dataset =\",F1, \"or %.2f\" % (F1*100),\"%\")"
   ]
  },
  {
   "cell_type": "markdown",
   "metadata": {
    "id": "AVZp0N5J2XUL"
   },
   "source": [
    "## <b> Q 3.b)<b>"
   ]
  },
  {
   "cell_type": "markdown",
   "metadata": {},
   "source": [
    "Taking 50 positive and 50 negative documents for testing"
   ]
  },
  {
   "cell_type": "code",
   "execution_count": 19,
   "metadata": {
    "tags": []
   },
   "outputs": [],
   "source": [
    "bpos_reviews = training_norm[:50]    # Taking 50 positive docs/reviews\n",
    "bneg_reviews = training_norm[-50:]   # Taking 50 negative docs/reviews\n",
    "\n",
    "balanced_training_norm=bpos_reviews + bneg_reviews\n",
    "\n",
    "bpos_freq_dist=FreqDist()\n",
    "bneg_freq_dist=FreqDist()\n",
    "for reviewDist,label in balanced_training_norm:\n",
    "    if label=='pos':\n",
    "        bpos_freq_dist+=reviewDist\n",
    "    else:\n",
    "        bneg_freq_dist+=reviewDist\n",
    "\n",
    "bTop_pos_cwords = frequent_words(bpos_freq_dist,bneg_freq_dist,10)   # Top 10 positive most frequent words\n",
    "bTop_neg_cwords = frequent_words(bneg_freq_dist,bpos_freq_dist,10)   # Top 10 negative most frequent words"
   ]
  },
  {
   "cell_type": "code",
   "execution_count": 20,
   "metadata": {
    "tags": []
   },
   "outputs": [],
   "source": [
    "bdocs,bgoldstandard=zip(*balanced_training_norm)\n",
    "\n",
    "bclassifier = SimpleClassifier(bTop_pos_cwords, bTop_neg_cwords)     # Feeding our classifier with positive and negative words\n",
    "bpredictions = bclassifier.classify_many(bdocs)                      # Classifing our documents and storing it in 'bpredicition'"
   ]
  },
  {
   "cell_type": "code",
   "execution_count": 21,
   "metadata": {
    "tags": []
   },
   "outputs": [
    {
     "name": "stdout",
     "output_type": "stream",
     "text": [
      "Accuracy of balanced dataset is 0.79\n",
      "TP 44\n",
      "FP 15\n",
      "FN 6\n",
      "TN 35\n"
     ]
    }
   ],
   "source": [
    "bConfusionMatrix1=ConfusionMatrix(bpredictions,bgoldstandard)\n",
    "\n",
    "print(\"Accuracy of balanced dataset is\",bConfusionMatrix1.accuracy())\n",
    "print(\"TP\",bConfusionMatrix1.TP)\n",
    "print(\"FP\",bConfusionMatrix1.FP)\n",
    "print(\"FN\",bConfusionMatrix1.FN)\n",
    "print(\"TN\",bConfusionMatrix1.TN)"
   ]
  },
  {
   "cell_type": "markdown",
   "metadata": {
    "tags": []
   },
   "source": [
    "The accuracy is given by the formula \n",
    "\\begin{eqnarray*}\n",
    "A=\\frac{TP+TN}{TP+FP+TN+FN}\n",
    "\\end{eqnarray*}\n",
    "\n",
    "\n",
    "Filling the values in the table below\n",
    "\n",
    "|        | Predicted  | Class|     |Total|\n",
    "|--------|------------|------|-----|-----|    \n",
    "|        |            | +ve  | -ve |     |\n",
    "| True   | +ve        |TP=44 |FN=6 | 50  |\n",
    "| Class  | -ve        |FP=15 |TN=35| 50  |\n",
    "|        | Total      | 59   | 41  | 100 |\n",
    "\n",
    "\\begin{eqnarray*}\n",
    "A=\\frac{TP+TN}{TP+FP+TN+FN}=\\frac{44+35}{44+15+6+35} = 0.79\n",
    "\\end{eqnarray*}\n",
    "\n",
    "\n",
    "\n",
    "Since the dataset is balanced, even if our classifier predicts all the document/review as negative(as shown below)\n",
    "\n",
    "|        | Predicted  | Class|     |Total|\n",
    "|--------|------------|------|-----|-----|\n",
    "|        |            | +ve  | -ve |     |\n",
    "| True   | +ve        | TP=0 |FN=50| 50  |\n",
    "| Class  | -ve        | FP=0 |TN=50| 50  |\n",
    "|        | Total      |  0   | 100 | 100 |\n",
    "\n",
    "\\begin{eqnarray*}\n",
    "A=\\frac{0+50}{0+50+0+50} = 0.5\n",
    "\\end{eqnarray*}\n",
    "\n",
    "The accuracy woyld be 50 %\n",
    "Which means that our classifier is only 50% accurate \n",
    "\n",
    "What if the dataset is unbalanced and these are outputs of our classifier? (shown below)\n",
    "\n",
    "|        | Predicted  | Class|     |Total|\n",
    "|--------|------------|------|-----|-----|    \n",
    "|        |            | +ve  | -ve |     |\n",
    "| True   | +ve        | TP=4 |FN=6 | 10  |\n",
    "| Class  | -ve        | FP=4 |TN=86| 90  |\n",
    "|        | Total      |  8   | 92  | 100 |\n",
    "\n",
    "The accuracy would be 90 %, which is great!\n",
    "\n",
    "But if our classifier predicts all the documnets to be negative then,\n",
    "\n",
    "|        | Predicted  | Class|     |Total|\n",
    "|--------|------------|------|-----|-----|    \n",
    "|        |            | +ve  | -ve |     |\n",
    "| True   | +ve        | TP=0 |FN=10| 10  |\n",
    "| Class  | -ve        | FP=0 |TN=90| 90  |\n",
    "|        | Total      |  0   | 100 | 100 |\n",
    "\n",
    "\\begin{eqnarray*}\n",
    "A=\\frac{0+90}{0+10+0+90} = 0.9\n",
    "\\end{eqnarray*}\n",
    "\n",
    "Then also the accuracy will be 90% which doesnt make any sense because we are not predicting it correctly but still the accuracy would be 90%\n",
    "\n",
    "That is why evaluating the classifier in terms of its accuracy is not the right way. We should use precision, recall and F1 to evalute the classifier."
   ]
  },
  {
   "cell_type": "markdown",
   "metadata": {
    "id": "LIS9UpmJNEAp"
   },
   "source": [
    "4)\n",
    "a)  **Construct** a Naive Bayes classifier (e.g., from NLTK).\n",
    "\n",
    "b)  **Compare** the performance of your word list classifier with the Naive Bayes classifier.  **Discuss** your results.\n",
    "\n",
    "[12.5\\%]"
   ]
  },
  {
   "cell_type": "markdown",
   "metadata": {
    "id": "Gwjig-Y12XUN"
   },
   "source": [
    "## <b> Q 4.a)<b>"
   ]
  },
  {
   "cell_type": "code",
   "execution_count": 22,
   "metadata": {
    "tags": []
   },
   "outputs": [],
   "source": [
    "from nltk.classify.api import ClassifierI\n",
    "import math\n",
    "\n",
    "class NBClassifier(ClassifierI):  # Defining the Naive Bayes Classifier\n",
    "    \n",
    "    def __init__(self):\n",
    "        \n",
    "        pass\n",
    "    \n",
    "    def _set_known_vocabulary(self,training_data):\n",
    "        known=[]\n",
    "        for doc,label in training_data:\n",
    "            known+=list(doc.keys())\n",
    "        self.known= set(known)\n",
    "    \n",
    "    def _set_priors(self,training_data):\n",
    "        priors={}\n",
    "        for (doc,label) in training_data:\n",
    "            priors[label]=priors.get(label,0)+1\n",
    "        total=sum(priors.values())\n",
    "        for key,value in priors.items():\n",
    "            priors[key]=value/total\n",
    "        self.priors=priors\n",
    "        \n",
    "    def _set_cond_probs(self,training_data):   \n",
    "        conds={}\n",
    "        for(doc,label) in training_data:\n",
    "            classcond=conds.get(label,{})\n",
    "            for word in doc.keys():\n",
    "                classcond[word]=classcond.get(word,0)+1\n",
    "        \n",
    "            conds[label]=classcond\n",
    "    \n",
    "        for label, classcond in conds.items():\n",
    "            for word in self.known:\n",
    "        \n",
    "                classcond[word]=classcond.get(word,0)+1\n",
    "            conds[label]=classcond\n",
    "            \n",
    "        for label,dist in conds.items():\n",
    "            total=sum(dist.values())\n",
    "            conds[label]={key:value/total for (key,value) in dist.items()}\n",
    "        \n",
    "        self.conds=conds\n",
    "    \n",
    "    def train(self,training_data):\n",
    "        self._set_known_vocabulary(training_data)\n",
    "        self._set_priors(training_data)\n",
    "        self._set_cond_probs(training_data)\n",
    "    \n",
    "    def classify(self,doc):\n",
    "        doc_probs={key:math.log(value) for (key,value) in self.priors.items()}\n",
    "        for word in doc.keys():\n",
    "            if word in self.known:\n",
    "                doc_probs={classlabel:sofar+math.log(self.conds[classlabel].get(word,0)) for (classlabel,sofar) in doc_probs.items()}\n",
    "\n",
    "        highprob=max(doc_probs.values())\n",
    "        classes=[c for c in doc_probs.keys() if doc_probs[c]==highprob]\n",
    "        return random.choice(classes)\n",
    "    \n",
    "    "
   ]
  },
  {
   "cell_type": "markdown",
   "metadata": {
    "tags": []
   },
   "source": [
    "## <b> Q 4.b)<b>"
   ]
  },
  {
   "cell_type": "code",
   "execution_count": 23,
   "metadata": {},
   "outputs": [
    {
     "name": "stdout",
     "output_type": "stream",
     "text": [
      "Accuracy of my Word list classifier = 0.6483333333333333 or 64.83 %\n",
      "Precision of my Word list classifier = 0.6027713625866051 or 60.28 %\n",
      "Recall of my Word list classifier = 0.87 or 87.00 %\n",
      "F1 of my Word list classifier = 0.7121418826739427 or 71.21 %\n"
     ]
    }
   ],
   "source": [
    "docs,goldstandard=zip(*testing_norm)\n",
    "\n",
    "classifier = SimpleClassifier(Top_pos_cwords, Top_neg_cwords)  # Feeding our classifier with positive and negative words of training dataset\n",
    "predictions=classifier.classify_many(docs)                     # Classifing our testing dataset documents and storing it in 'predicition'\n",
    "\n",
    "ConfusionMatrix1=ConfusionMatrix(predictions,goldstandard)  \n",
    "\n",
    "Accuracy=ConfusionMatrix1.accuracy()\n",
    "Precision=ConfusionMatrix1.precision()\n",
    "Recall=ConfusionMatrix1.recall()\n",
    "F1=ConfusionMatrix1.f1()\n",
    "\n",
    "print(\"Accuracy of my Word list classifier =\",Accuracy, \"or %.2f\" % (Accuracy*100),\"%\")          #Accuracy of word list classifier\n",
    "print(\"Precision of my Word list classifier =\",Precision, \"or %.2f\" % (Precision*100),\"%\")       #Precision of word list classifier\n",
    "print(\"Recall of my Word list classifier =\",Recall, \"or %.2f\" % (Recall*100),\"%\")                #Recall of word list classifier\n",
    "print(\"F1 of my Word list classifier =\",F1, \"or %.2f\" % (F1*100),\"%\")                            #F1 of word list classifier"
   ]
  },
  {
   "cell_type": "code",
   "execution_count": 24,
   "metadata": {},
   "outputs": [
    {
     "name": "stdout",
     "output_type": "stream",
     "text": [
      "Accuracy of Naive Bayes classifier= 0.83 or 83.00 %\n",
      "Precision of Naive Bayes classifier= 0.8561151079136691 or 85.61 %\n",
      "Recall of Naive Bayes classifier= 0.7933333333333333 or 79.33 %\n",
      "F1 of Naive Bayes classifier= 0.8235294117647058 or 82.35 %\n"
     ]
    }
   ],
   "source": [
    "nb_classifier=NBClassifier()\n",
    "nb_classifier.train(training_norm)    # Training our classifier with training dataset \n",
    "\n",
    "docs,goldstandard=zip(*testing_norm) \n",
    "\n",
    "NB_ConfusionMatrix1=ConfusionMatrix(nb_classifier.classify_many(docs),goldstandard,classes=('pos','neg'))\n",
    "\n",
    "NB_Accuracy=NB_ConfusionMatrix1.accuracy()\n",
    "NB_Precision=NB_ConfusionMatrix1.precision()\n",
    "NB_Recall=NB_ConfusionMatrix1.recall()\n",
    "NB_F1=NB_ConfusionMatrix1.f1()\n",
    "\n",
    "print(\"Accuracy of Naive Bayes classifier=\",NB_Accuracy, \"or %.2f\" % (NB_Accuracy*100),\"%\")      #Accuracy of Naive bayes classifier\n",
    "print(\"Precision of Naive Bayes classifier=\",NB_Precision, \"or %.2f\" % (NB_Precision*100),\"%\")   #Precision of Naive bayes classifier\n",
    "print(\"Recall of Naive Bayes classifier=\",NB_Recall, \"or %.2f\" % (NB_Recall*100),\"%\")            #Recall of Naive bayes classifier\n",
    "print(\"F1 of Naive Bayes classifier=\",NB_F1, \"or %.2f\" % (NB_F1*100),\"%\")                        #F1 of Naive bayes classifier"
   ]
  },
  {
   "cell_type": "markdown",
   "metadata": {},
   "source": [
    "As we can clearly see, the Accuracy,Precision and F1 of Naive Bayes classifier is better than my word list classifier. \n",
    "Though the recall is higher in case of my word classifier but F1 which considers both precision and recall is higher for Naive Bayes Calssifier\n",
    "\n",
    "Final Verdict: Naive Bayes Calssifier is better than my word list classifier\n"
   ]
  },
  {
   "cell_type": "markdown",
   "metadata": {
    "id": "LGDXaVDqOSfY"
   },
   "source": [
    "5)\n",
    "a) Design and **carry out an experiment** into the impact of the **length of the wordlists** on the wordlist classifier.  Make sure you **describe** design decisions in your experiment, include a **graph** of your results and **discuss** your conclusions.\n",
    "\n",
    "b) Would you **recommend** a wordlist classifier or a Naive Bayes classifier for future work in this area?  **Justify** your answer.\n",
    "\n",
    "[25\\%]\n"
   ]
  },
  {
   "cell_type": "markdown",
   "metadata": {
    "id": "UlxoUthX2XUP"
   },
   "source": [
    "## <b> Q 5.a)<b>"
   ]
  },
  {
   "cell_type": "markdown",
   "metadata": {},
   "source": [
    "Lets do the experiment on `testing_data` to evaluate my word classifier"
   ]
  },
  {
   "cell_type": "code",
   "execution_count": 25,
   "metadata": {},
   "outputs": [],
   "source": [
    "testresults={}\n",
    "wordlengths=[5,10,50,100,200,400,600,700]\n",
    "for runtest in range(4):           # Running the test 4 times\n",
    "    results={}\n",
    "    for wordLen in wordlengths:    # The max we can take is 700, since we have only 700 positive and 700 negative documents.\n",
    "        training_data2,testing_data2=get_train_test_data()\n",
    "        training_norm2 = [(FreqDist(i),j) for i,j in normalize(training_data2)]   \n",
    "        testing_norm2 = [(FreqDist(i),j) for i,j in normalize(testing_data2)]  \n",
    "        \n",
    "        pos_freq_dist2=FreqDist()\n",
    "        neg_freq_dist2=FreqDist()\n",
    "        for reviewDist,label in training_norm2:\n",
    "            if label=='pos':\n",
    "                pos_freq_dist2+=reviewDist\n",
    "            else:\n",
    "                neg_freq_dist2+=reviewDist\n",
    "\n",
    "        Top_pos_cwords2 = frequent_words(pos_freq_dist2,neg_freq_dist2,wordLen)\n",
    "        Top_neg_cwords2 = frequent_words(neg_freq_dist2,pos_freq_dist2,wordLen)\n",
    "\n",
    "        docs2,goldstandard2=zip(*testing_norm2)   #Testing dataset\n",
    "\n",
    "        movie_classifier2 = SimpleClassifier(Top_pos_cwords2,Top_neg_cwords2)\n",
    "        predictions2=movie_classifier2.classify_many(docs2)\n",
    "\n",
    "        ConfusionMatrix3=ConfusionMatrix(predictions2,goldstandard2)\n",
    "        Accuracy=ConfusionMatrix3.accuracy()\n",
    "        Precision=ConfusionMatrix3.precision()\n",
    "        Recall=ConfusionMatrix3.recall()\n",
    "        F1=ConfusionMatrix3.f1()\n",
    "        #print(\"Precision=\",Precision)\n",
    "        #print(\"Accuracy=\",Accuracy)\n",
    "        \n",
    "        results[wordLen]=results.get(wordLen,0)+Accuracy,Precision,Recall,F1\n",
    "    testresults[runtest]=results"
   ]
  },
  {
   "cell_type": "code",
   "execution_count": 26,
   "metadata": {
    "tags": []
   },
   "outputs": [
    {
     "data": {
      "text/html": [
       "<div>\n",
       "<style scoped>\n",
       "    .dataframe tbody tr th:only-of-type {\n",
       "        vertical-align: middle;\n",
       "    }\n",
       "\n",
       "    .dataframe tbody tr th {\n",
       "        vertical-align: top;\n",
       "    }\n",
       "\n",
       "    .dataframe thead th {\n",
       "        text-align: right;\n",
       "    }\n",
       "</style>\n",
       "<table border=\"1\" class=\"dataframe\">\n",
       "  <thead>\n",
       "    <tr style=\"text-align: right;\">\n",
       "      <th></th>\n",
       "      <th>Accuracy</th>\n",
       "      <th>Precision</th>\n",
       "      <th>Recall</th>\n",
       "      <th>F1</th>\n",
       "    </tr>\n",
       "  </thead>\n",
       "  <tbody>\n",
       "    <tr>\n",
       "      <th>5</th>\n",
       "      <td>0.615833</td>\n",
       "      <td>0.578895</td>\n",
       "      <td>0.889167</td>\n",
       "      <td>0.697848</td>\n",
       "    </tr>\n",
       "    <tr>\n",
       "      <th>10</th>\n",
       "      <td>0.640000</td>\n",
       "      <td>0.590474</td>\n",
       "      <td>0.918333</td>\n",
       "      <td>0.718619</td>\n",
       "    </tr>\n",
       "    <tr>\n",
       "      <th>50</th>\n",
       "      <td>0.572917</td>\n",
       "      <td>0.540126</td>\n",
       "      <td>0.984167</td>\n",
       "      <td>0.697427</td>\n",
       "    </tr>\n",
       "    <tr>\n",
       "      <th>100</th>\n",
       "      <td>0.627500</td>\n",
       "      <td>0.576612</td>\n",
       "      <td>0.970833</td>\n",
       "      <td>0.723071</td>\n",
       "    </tr>\n",
       "    <tr>\n",
       "      <th>200</th>\n",
       "      <td>0.662500</td>\n",
       "      <td>0.602087</td>\n",
       "      <td>0.962500</td>\n",
       "      <td>0.740559</td>\n",
       "    </tr>\n",
       "    <tr>\n",
       "      <th>400</th>\n",
       "      <td>0.630000</td>\n",
       "      <td>0.577805</td>\n",
       "      <td>0.983333</td>\n",
       "      <td>0.727281</td>\n",
       "    </tr>\n",
       "    <tr>\n",
       "      <th>600</th>\n",
       "      <td>0.624583</td>\n",
       "      <td>0.573212</td>\n",
       "      <td>0.987500</td>\n",
       "      <td>0.725047</td>\n",
       "    </tr>\n",
       "    <tr>\n",
       "      <th>700</th>\n",
       "      <td>0.623750</td>\n",
       "      <td>0.573765</td>\n",
       "      <td>0.983333</td>\n",
       "      <td>0.724053</td>\n",
       "    </tr>\n",
       "  </tbody>\n",
       "</table>\n",
       "</div>"
      ],
      "text/plain": [
       "     Accuracy  Precision    Recall        F1\n",
       "5    0.615833   0.578895  0.889167  0.697848\n",
       "10   0.640000   0.590474  0.918333  0.718619\n",
       "50   0.572917   0.540126  0.984167  0.697427\n",
       "100  0.627500   0.576612  0.970833  0.723071\n",
       "200  0.662500   0.602087  0.962500  0.740559\n",
       "400  0.630000   0.577805  0.983333  0.727281\n",
       "600  0.624583   0.573212  0.987500  0.725047\n",
       "700  0.623750   0.573765  0.983333  0.724053"
      ]
     },
     "execution_count": 26,
     "metadata": {},
     "output_type": "execute_result"
    }
   ],
   "source": [
    "df=pd.DataFrame(testresults) \n",
    "df=df.transpose()\n",
    "\n",
    "avg_values={}\n",
    "for size in wordlengths: \n",
    "    avg_values[size]=[(i+j+k+l)/4 for i,j,k,l in zip(*df[size])]\n",
    "\n",
    "df_avg=pd.DataFrame(avg_values) \n",
    "df_avg=df_avg.transpose()\n",
    "df_avg.rename(columns={0: \"Accuracy\", 1: \"Precision\", 2: \"Recall\", 3: \"F1\"},inplace=True)\n",
    "df_avg"
   ]
  },
  {
   "cell_type": "code",
   "execution_count": 27,
   "metadata": {
    "tags": []
   },
   "outputs": [
    {
     "data": {
      "text/plain": [
       "<matplotlib.legend.Legend at 0x21e6d91a3d0>"
      ]
     },
     "execution_count": 27,
     "metadata": {},
     "output_type": "execute_result"
    },
    {
     "data": {
      "image/png": "[encoded data removed]",
      "text/plain": [
       "<Figure size 640x480 with 1 Axes>"
      ]
     },
     "metadata": {},
     "output_type": "display_data"
    }
   ],
   "source": [
    "ax = df_avg.plot(kind=\"line\",title=\"Experimental Results\")\n",
    "ax.set_ylabel(\"Average Outputs\")\n",
    "ax.set_xlabel(\"Word Length\")\n",
    "ax.legend(loc=\"best\")"
   ]
  },
  {
   "cell_type": "markdown",
   "metadata": {},
   "source": [
    "After running multiple tests,it has been observed that:\n",
    "\n",
    "Recall, which is the proportion of actually +ve documents that are predicted correctly was maximum when the length was 50 i.e 0.984167.\n",
    "\n",
    "But, we want high F1 which is  score to evaluate the Classifier.\n",
    "The classifier (F1 score which considers both precision and recall) is performing well when the length of word list is 200, F1-score = 0.740559.\n"
   ]
  },
  {
   "cell_type": "markdown",
   "metadata": {
    "tags": []
   },
   "source": [
    "## <b> Q 5.b)<b>"
   ]
  },
  {
   "cell_type": "code",
   "execution_count": 28,
   "metadata": {
    "id": "xFeOWIRm2XUQ"
   },
   "outputs": [
    {
     "name": "stdout",
     "output_type": "stream",
     "text": [
      "Accuracy of Naive Bayes classifier = 0.83 or 83.00 %\n",
      "Precision of Naive Bayes classifier = 0.8561151079136691 or 85.61 %\n",
      "Recall of Naive Bayes classifier = 0.7933333333333333 or 79.33 %\n",
      "F1 of Naive Bayes classifier = 0.8235294117647058 or 82.35 %\n"
     ]
    }
   ],
   "source": [
    "nb_classifier=NBClassifier()\n",
    "nb_classifier.train(training_norm)\n",
    "\n",
    "docs,goldstandard=zip(*testing_norm) \n",
    "\n",
    "NB_ConfusionMatrix1=ConfusionMatrix(nb_classifier.classify_many(docs),goldstandard,classes=('pos','neg'))\n",
    "\n",
    "NB_Accuracy=NB_ConfusionMatrix1.accuracy()\n",
    "NB_Precision=NB_ConfusionMatrix1.precision()\n",
    "NB_Recall=NB_ConfusionMatrix1.recall()\n",
    "NB_F1=NB_ConfusionMatrix1.f1()\n",
    "\n",
    "print(\"Accuracy of Naive Bayes classifier =\",NB_Accuracy, \"or %.2f\" % (NB_Accuracy*100),\"%\")      #Accuracy of Naive bayes classifier\n",
    "print(\"Precision of Naive Bayes classifier =\",NB_Precision, \"or %.2f\" % (NB_Precision*100),\"%\")   #Precision of Naive bayes classifier\n",
    "print(\"Recall of Naive Bayes classifier =\",NB_Recall, \"or %.2f\" % (NB_Recall*100),\"%\")            #Recall of Naive bayes classifier\n",
    "print(\"F1 of Naive Bayes classifier =\",NB_F1, \"or %.2f\" % (NB_F1*100),\"%\")                        #F1 of Naive bayes classifier"
   ]
  },
  {
   "cell_type": "code",
   "execution_count": 29,
   "metadata": {
    "tags": []
   },
   "outputs": [
    {
     "data": {
      "text/plain": [
       "Accuracy     200.662500\n",
       "Precision    200.602087\n",
       "Recall       600.987500\n",
       "F1           200.740559\n",
       "dtype: float64"
      ]
     },
     "execution_count": 29,
     "metadata": {},
     "output_type": "execute_result"
    }
   ],
   "source": [
    "df_avg.idxmax() + df_avg.max()     # Emperimental results"
   ]
  },
  {
   "cell_type": "markdown",
   "metadata": {
    "id": "VT82P88M2XUQ"
   },
   "source": [
    "Comparing the results of the experiment with the Naive Bayes classifier:\n",
    "\n",
    "The Recall is higher for my word classifier, I can use it if I want to minimize false negatives.\n",
    "\n",
    "The accuracy, precision, and F1 Score of Naive Bayes classifier is better than my word classifier.\n",
    "\n",
    "Final Verdict: F1 score is the best way to evalualte the classifier, so based on that, Naive Bayes classifier is better than my word classifier\n",
    "\n",
    "I would defintely use Naive Bayes classifier for all of my future work"
   ]
  },
  {
   "cell_type": "markdown",
   "metadata": {
    "id": "Ym-TGvYS2XUR"
   },
   "source": [
    "."
   ]
  },
  {
   "cell_type": "code",
   "execution_count": 30,
   "metadata": {
    "colab": {
     "base_uri": "https://localhost:8080/"
    },
    "id": "34rdlS_iPov6",
    "outputId": "5465e8f3-ec02-4ff6-b326-0bf15c507b73"
   },
   "outputs": [
    {
     "name": "stdout",
     "output_type": "stream",
     "text": [
      "Submission length is 1014\n"
     ]
    },
    {
     "name": "stderr",
     "output_type": "stream",
     "text": [
      "C:\\Users\\Sai\\AppData\\Local\\Temp\\ipykernel_3180\\1312045695.py:4: DeprecationWarning: nbformat.current is deprecated since before nbformat 3.0\n",
      "\n",
      "- use nbformat for read/write/validate public API\n",
      "- use nbformat.vX directly to composing notebooks of a particular version\n",
      "\n",
      "  from nbformat import current\n"
     ]
    }
   ],
   "source": [
    "##This code will word count all of the markdown cells in the notebook saved at filepath\n",
    "\n",
    "import io\n",
    "from nbformat import current\n",
    "\n",
    "#from google.colab import drive\n",
    "#drive.mount('/content/drive')\n",
    "\n",
    "#filepath=\"/content/drive/MyDrive/Colab Notebooks/ANLPassignment2023.ipynb\"\n",
    "filepath=\"C:/Users/Sai/OneDrive - University of Sussex/Python/NLP/Assignment-1/ANLPassignment2023.ipynb\"\n",
    "question_count=432\n",
    "\n",
    "with io.open(filepath, 'r', encoding='utf-8') as f:\n",
    "    nb = current.read(f, 'json')\n",
    "\n",
    "word_count = 0\n",
    "for cell in nb.worksheets[0].cells:\n",
    "    if cell.cell_type == \"markdown\":\n",
    "        word_count += len(cell['source'].replace('#', '').lstrip().split(' '))\n",
    "print(\"Submission length is {}\".format(word_count-question_count))"
   ]
  },
  {
   "cell_type": "code",
   "execution_count": null,
   "metadata": {},
   "outputs": [],
   "source": []
  }
 ],
 "metadata": {
  "colab": {
   "provenance": []
  },
  "kernelspec": {
   "display_name": "Python 3 (ipykernel)",
   "language": "python",
   "name": "python3"
  },
  "language_info": {
   "codemirror_mode": {
    "name": "ipython",
    "version": 3
   },
   "file_extension": ".py",
   "mimetype": "text/x-python",
   "name": "python",
   "nbconvert_exporter": "python",
   "pygments_lexer": "ipython3",
   "version": "3.11.5"
  }
 },
 "nbformat": 4,
 "nbformat_minor": 4
}
